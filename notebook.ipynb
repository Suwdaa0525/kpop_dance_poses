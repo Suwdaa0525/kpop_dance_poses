{
 "cells": [
  {
   "cell_type": "code",
   "metadata": {
    "tags": [],
    "cell_id": "362522af-5c87-46fe-9bd3-53e6599151c7",
    "deepnote_to_be_reexecuted": false,
    "source_hash": "c61f6a84",
    "execution_start": 1652715289132,
    "execution_millis": 8977,
    "deepnote_cell_type": "code",
    "deepnote_cell_height": 764
   },
   "source": "!pip install fastai --upgrade\n!pip install fastcore",
   "outputs": [
    {
     "name": "stdout",
     "text": "Collecting fastai\n  Downloading fastai-2.6.3-py3-none-any.whl (197 kB)\n\u001b[K     |████████████████████████████████| 197 kB 31.1 MB/s \n\u001b[?25hCollecting fastcore<1.5,>=1.3.27\n  Downloading fastcore-1.4.3-py3-none-any.whl (59 kB)\n\u001b[K     |████████████████████████████████| 59 kB 15.5 MB/s \n\u001b[?25hRequirement already satisfied, skipping upgrade: pillow>6.0.0 in /shared-libs/python3.7/py/lib/python3.7/site-packages (from fastai) (9.1.0)\nRequirement already satisfied, skipping upgrade: torch<1.12,>=1.7.0 in /shared-libs/python3.7/py/lib/python3.7/site-packages (from fastai) (1.11.0)\nCollecting fastdownload<2,>=0.0.5\n  Downloading fastdownload-0.0.5-py3-none-any.whl (13 kB)\nRequirement already satisfied, skipping upgrade: pip in /root/venv/lib/python3.7/site-packages (from fastai) (20.1.1)\nRequirement already satisfied, skipping upgrade: packaging in /shared-libs/python3.7/py/lib/python3.7/site-packages (from fastai) (21.3)\nCollecting pyyaml\n  Downloading PyYAML-6.0-cp37-cp37m-manylinux_2_5_x86_64.manylinux1_x86_64.manylinux_2_12_x86_64.manylinux2010_x86_64.whl (596 kB)\n\u001b[K     |████████████████████████████████| 596 kB 32.0 MB/s \n\u001b[?25hRequirement already satisfied, skipping upgrade: spacy<4 in /shared-libs/python3.7/py/lib/python3.7/site-packages (from fastai) (3.3.0)\nRequirement already satisfied, skipping upgrade: requests in /shared-libs/python3.7/py/lib/python3.7/site-packages (from fastai) (2.27.1)\nCollecting fastprogress>=0.2.4\n  Downloading fastprogress-1.0.2-py3-none-any.whl (12 kB)\nRequirement already satisfied, skipping upgrade: matplotlib in /shared-libs/python3.7/py/lib/python3.7/site-packages (from fastai) (3.5.2)\nRequirement already satisfied, skipping upgrade: torchvision>=0.8.2 in /shared-libs/python3.7/py/lib/python3.7/site-packages (from fastai) (0.12.0)\nRequirement already satisfied, skipping upgrade: scikit-learn in /shared-libs/python3.7/py/lib/python3.7/site-packages (from fastai) (1.0.2)\nRequirement already satisfied, skipping upgrade: scipy in /shared-libs/python3.7/py/lib/python3.7/site-packages (from fastai) (1.7.3)\nRequirement already satisfied, skipping upgrade: pandas in /shared-libs/python3.7/py/lib/python3.7/site-packages (from fastai) (1.2.5)\nRequirement already satisfied, skipping upgrade: typing-extensions in /shared-libs/python3.7/py-core/lib/python3.7/site-packages (from torch<1.12,>=1.7.0->fastai) (4.2.0)\nRequirement already satisfied, skipping upgrade: pyparsing!=3.0.5,>=2.0.2 in /shared-libs/python3.7/py/lib/python3.7/site-packages (from packaging->fastai) (3.0.8)\nRequirement already satisfied, skipping upgrade: spacy-loggers<2.0.0,>=1.0.0 in /shared-libs/python3.7/py/lib/python3.7/site-packages (from spacy<4->fastai) (1.0.2)\nRequirement already satisfied, skipping upgrade: wasabi<1.1.0,>=0.9.1 in /shared-libs/python3.7/py/lib/python3.7/site-packages (from spacy<4->fastai) (0.9.1)\nRequirement already satisfied, skipping upgrade: thinc<8.1.0,>=8.0.14 in /shared-libs/python3.7/py/lib/python3.7/site-packages (from spacy<4->fastai) (8.0.15)\nRequirement already satisfied, skipping upgrade: catalogue<2.1.0,>=2.0.6 in /shared-libs/python3.7/py/lib/python3.7/site-packages (from spacy<4->fastai) (2.0.7)\nRequirement already satisfied, skipping upgrade: blis<0.8.0,>=0.4.0 in /shared-libs/python3.7/py/lib/python3.7/site-packages (from spacy<4->fastai) (0.7.7)\nRequirement already satisfied, skipping upgrade: langcodes<4.0.0,>=3.2.0 in /shared-libs/python3.7/py/lib/python3.7/site-packages (from spacy<4->fastai) (3.3.0)\nRequirement already satisfied, skipping upgrade: tqdm<5.0.0,>=4.38.0 in /shared-libs/python3.7/py/lib/python3.7/site-packages (from spacy<4->fastai) (4.64.0)\nRequirement already satisfied, skipping upgrade: setuptools in /root/venv/lib/python3.7/site-packages (from spacy<4->fastai) (47.1.0)\nRequirement already satisfied, skipping upgrade: numpy>=1.15.0 in /shared-libs/python3.7/py/lib/python3.7/site-packages (from spacy<4->fastai) (1.21.6)\nRequirement already satisfied, skipping upgrade: cymem<2.1.0,>=2.0.2 in /shared-libs/python3.7/py/lib/python3.7/site-packages (from spacy<4->fastai) (2.0.6)\nRequirement already satisfied, skipping upgrade: pydantic!=1.8,!=1.8.1,<1.9.0,>=1.7.4 in /shared-libs/python3.7/py/lib/python3.7/site-packages (from spacy<4->fastai) (1.8.2)\nRequirement already satisfied, skipping upgrade: srsly<3.0.0,>=2.4.3 in /shared-libs/python3.7/py/lib/python3.7/site-packages (from spacy<4->fastai) (2.4.3)\nRequirement already satisfied, skipping upgrade: typer<0.5.0,>=0.3.0 in /shared-libs/python3.7/py/lib/python3.7/site-packages (from spacy<4->fastai) (0.4.1)\nRequirement already satisfied, skipping upgrade: murmurhash<1.1.0,>=0.28.0 in /shared-libs/python3.7/py/lib/python3.7/site-packages (from spacy<4->fastai) (1.0.7)\nRequirement already satisfied, skipping upgrade: jinja2 in /shared-libs/python3.7/py-core/lib/python3.7/site-packages (from spacy<4->fastai) (2.11.3)\nRequirement already satisfied, skipping upgrade: spacy-legacy<3.1.0,>=3.0.9 in /shared-libs/python3.7/py/lib/python3.7/site-packages (from spacy<4->fastai) (3.0.9)\nRequirement already satisfied, skipping upgrade: pathy>=0.3.5 in /shared-libs/python3.7/py/lib/python3.7/site-packages (from spacy<4->fastai) (0.6.1)\nRequirement already satisfied, skipping upgrade: preshed<3.1.0,>=3.0.2 in /shared-libs/python3.7/py/lib/python3.7/site-packages (from spacy<4->fastai) (3.0.6)\nRequirement already satisfied, skipping upgrade: charset-normalizer~=2.0.0; python_version >= \"3\" in /shared-libs/python3.7/py-core/lib/python3.7/site-packages (from requests->fastai) (2.0.12)\nRequirement already satisfied, skipping upgrade: idna<4,>=2.5; python_version >= \"3\" in /shared-libs/python3.7/py-core/lib/python3.7/site-packages (from requests->fastai) (3.3)\nRequirement already satisfied, skipping upgrade: urllib3<1.27,>=1.21.1 in /shared-libs/python3.7/py/lib/python3.7/site-packages (from requests->fastai) (1.26.9)\nRequirement already satisfied, skipping upgrade: certifi>=2017.4.17 in /shared-libs/python3.7/py/lib/python3.7/site-packages (from requests->fastai) (2021.10.8)\nRequirement already satisfied, skipping upgrade: python-dateutil>=2.7 in /shared-libs/python3.7/py-core/lib/python3.7/site-packages (from matplotlib->fastai) (2.8.2)\nRequirement already satisfied, skipping upgrade: fonttools>=4.22.0 in /shared-libs/python3.7/py/lib/python3.7/site-packages (from matplotlib->fastai) (4.33.3)\nRequirement already satisfied, skipping upgrade: kiwisolver>=1.0.1 in /shared-libs/python3.7/py/lib/python3.7/site-packages (from matplotlib->fastai) (1.4.2)\nRequirement already satisfied, skipping upgrade: cycler>=0.10 in /shared-libs/python3.7/py/lib/python3.7/site-packages (from matplotlib->fastai) (0.11.0)\nRequirement already satisfied, skipping upgrade: joblib>=0.11 in /shared-libs/python3.7/py/lib/python3.7/site-packages (from scikit-learn->fastai) (1.1.0)\nRequirement already satisfied, skipping upgrade: threadpoolctl>=2.0.0 in /shared-libs/python3.7/py/lib/python3.7/site-packages (from scikit-learn->fastai) (3.1.0)\nRequirement already satisfied, skipping upgrade: pytz>=2017.3 in /shared-libs/python3.7/py/lib/python3.7/site-packages (from pandas->fastai) (2022.1)\nRequirement already satisfied, skipping upgrade: zipp>=0.5; python_version < \"3.8\" in /shared-libs/python3.7/py-core/lib/python3.7/site-packages (from catalogue<2.1.0,>=2.0.6->spacy<4->fastai) (3.8.0)\nRequirement already satisfied, skipping upgrade: click<9.0.0,>=7.1.1 in /shared-libs/python3.7/py/lib/python3.7/site-packages (from typer<0.5.0,>=0.3.0->spacy<4->fastai) (8.1.3)\nRequirement already satisfied, skipping upgrade: MarkupSafe>=0.23 in /shared-libs/python3.7/py-core/lib/python3.7/site-packages (from jinja2->spacy<4->fastai) (2.0.1)\nRequirement already satisfied, skipping upgrade: smart-open<6.0.0,>=5.0.0 in /shared-libs/python3.7/py/lib/python3.7/site-packages (from pathy>=0.3.5->spacy<4->fastai) (5.2.1)\nRequirement already satisfied, skipping upgrade: six>=1.5 in /shared-libs/python3.7/py-core/lib/python3.7/site-packages (from python-dateutil>=2.7->matplotlib->fastai) (1.16.0)\nRequirement already satisfied, skipping upgrade: importlib-metadata; python_version < \"3.8\" in /shared-libs/python3.7/py-core/lib/python3.7/site-packages (from click<9.0.0,>=7.1.1->typer<0.5.0,>=0.3.0->spacy<4->fastai) (4.11.3)\nInstalling collected packages: fastcore, fastprogress, fastdownload, pyyaml, fastai\nSuccessfully installed fastai-2.6.3 fastcore-1.4.3 fastdownload-0.0.5 fastprogress-1.0.2 pyyaml-6.0\n\u001b[33mWARNING: You are using pip version 20.1.1; however, version 22.1 is available.\nYou should consider upgrading via the '/root/venv/bin/python -m pip install --upgrade pip' command.\u001b[0m\nRequirement already satisfied: fastcore in /root/venv/lib/python3.7/site-packages (1.4.3)\nRequirement already satisfied: packaging in /shared-libs/python3.7/py/lib/python3.7/site-packages (from fastcore) (21.3)\nRequirement already satisfied: pip in /root/venv/lib/python3.7/site-packages (from fastcore) (20.1.1)\nRequirement already satisfied: pyparsing!=3.0.5,>=2.0.2 in /shared-libs/python3.7/py/lib/python3.7/site-packages (from packaging->fastcore) (3.0.8)\n\u001b[33mWARNING: You are using pip version 20.1.1; however, version 22.1 is available.\nYou should consider upgrading via the '/root/venv/bin/python -m pip install --upgrade pip' command.\u001b[0m\n",
     "output_type": "stream"
    }
   ],
   "execution_count": null
  },
  {
   "cell_type": "code",
   "source": "!pip install streamlit",
   "metadata": {
    "cell_id": "df6b9a952687443d9ff5e133ceda4e89",
    "tags": [],
    "deepnote_to_be_reexecuted": false,
    "source_hash": "bb2176fd",
    "execution_start": 1652715298109,
    "execution_millis": 12353,
    "deepnote_cell_type": "code",
    "deepnote_cell_height": 701
   },
   "outputs": [
    {
     "name": "stdout",
     "text": "Collecting streamlit\n  Downloading streamlit-1.9.0-py2.py3-none-any.whl (10.1 MB)\n\u001b[K     |████████████████████████████████| 10.1 MB 28.2 MB/s \n\u001b[?25hRequirement already satisfied: pillow>=6.2.0 in /shared-libs/python3.7/py/lib/python3.7/site-packages (from streamlit) (9.1.0)\nCollecting pydeck>=0.1.dev5\n  Downloading pydeck-0.7.1-py2.py3-none-any.whl (4.3 MB)\n\u001b[K     |████████████████████████████████| 4.3 MB 54.4 MB/s \n\u001b[?25hCollecting toml\n  Downloading toml-0.10.2-py2.py3-none-any.whl (16 kB)\nRequirement already satisfied: pandas>=0.21.0 in /shared-libs/python3.7/py/lib/python3.7/site-packages (from streamlit) (1.2.5)\nRequirement already satisfied: python-dateutil in /shared-libs/python3.7/py-core/lib/python3.7/site-packages (from streamlit) (2.8.2)\nRequirement already satisfied: altair>=3.2.0 in /shared-libs/python3.7/py/lib/python3.7/site-packages (from streamlit) (4.1.0)\nCollecting validators\n  Downloading validators-0.19.0.tar.gz (30 kB)\nCollecting blinker\n  Downloading blinker-1.4.tar.gz (111 kB)\n\u001b[K     |████████████████████████████████| 111 kB 65.9 MB/s \n\u001b[?25hRequirement already satisfied: requests in /shared-libs/python3.7/py/lib/python3.7/site-packages (from streamlit) (2.27.1)\nRequirement already satisfied: attrs in /shared-libs/python3.7/py-core/lib/python3.7/site-packages (from streamlit) (21.4.0)\nRequirement already satisfied: packaging in /shared-libs/python3.7/py/lib/python3.7/site-packages (from streamlit) (21.3)\nCollecting click<8.1,>=7.0\n  Downloading click-8.0.4-py3-none-any.whl (97 kB)\n\u001b[K     |████████████████████████████████| 97 kB 15.2 MB/s \n\u001b[?25hCollecting tzlocal\n  Downloading tzlocal-4.2-py3-none-any.whl (19 kB)\nRequirement already satisfied: typing-extensions; python_version < \"3.8\" in /shared-libs/python3.7/py-core/lib/python3.7/site-packages (from streamlit) (4.2.0)\nCollecting gitpython!=3.1.19\n  Downloading GitPython-3.1.27-py3-none-any.whl (181 kB)\n\u001b[K     |████████████████████████████████| 181 kB 68.0 MB/s \n\u001b[?25hRequirement already satisfied: tornado>=5.0 in /shared-libs/python3.7/py-core/lib/python3.7/site-packages (from streamlit) (6.1)\nCollecting semver\n  Downloading semver-2.13.0-py2.py3-none-any.whl (12 kB)\nCollecting watchdog; platform_system != \"Darwin\"\n  Downloading watchdog-2.1.8-py3-none-manylinux2014_x86_64.whl (77 kB)\n\u001b[K     |████████████████████████████████| 77 kB 13.4 MB/s \n\u001b[?25hRequirement already satisfied: numpy in /shared-libs/python3.7/py/lib/python3.7/site-packages (from streamlit) (1.21.6)\nRequirement already satisfied: pyarrow in /shared-libs/python3.7/py/lib/python3.7/site-packages (from streamlit) (7.0.0)\nRequirement already satisfied: protobuf!=3.11,>=3.6.0 in /shared-libs/python3.7/py/lib/python3.7/site-packages (from streamlit) (3.20.1)\nRequirement already satisfied: importlib-metadata>=1.4 in /shared-libs/python3.7/py-core/lib/python3.7/site-packages (from streamlit) (4.11.3)\nRequirement already satisfied: cachetools>=4.0 in /shared-libs/python3.7/py/lib/python3.7/site-packages (from streamlit) (5.0.0)\nCollecting pympler>=0.9\n  Downloading Pympler-1.0.1-py3-none-any.whl (164 kB)\n\u001b[K     |████████████████████████████████| 164 kB 60.2 MB/s \n\u001b[?25hRequirement already satisfied: jinja2>=2.10.1 in /shared-libs/python3.7/py-core/lib/python3.7/site-packages (from pydeck>=0.1.dev5->streamlit) (2.11.3)\nCollecting ipywidgets>=7.0.0\n  Downloading ipywidgets-7.7.0-py2.py3-none-any.whl (123 kB)\n\u001b[K     |████████████████████████████████| 123 kB 54.0 MB/s \n\u001b[?25hRequirement already satisfied: ipykernel>=5.1.2; python_version >= \"3.4\" in /shared-libs/python3.7/py-core/lib/python3.7/site-packages (from pydeck>=0.1.dev5->streamlit) (5.5.5)\nRequirement already satisfied: traitlets>=4.3.2 in /shared-libs/python3.7/py-core/lib/python3.7/site-packages (from pydeck>=0.1.dev5->streamlit) (4.3.3)\nRequirement already satisfied: pytz>=2017.3 in /shared-libs/python3.7/py/lib/python3.7/site-packages (from pandas>=0.21.0->streamlit) (2022.1)\nRequirement already satisfied: six>=1.5 in /shared-libs/python3.7/py-core/lib/python3.7/site-packages (from python-dateutil->streamlit) (1.16.0)\nRequirement already satisfied: jsonschema in /shared-libs/python3.7/py-core/lib/python3.7/site-packages (from altair>=3.2.0->streamlit) (3.2.0)\nRequirement already satisfied: entrypoints in /shared-libs/python3.7/py-core/lib/python3.7/site-packages (from altair>=3.2.0->streamlit) (0.4)\nRequirement already satisfied: toolz in /shared-libs/python3.7/py/lib/python3.7/site-packages (from altair>=3.2.0->streamlit) (0.11.2)\nRequirement already satisfied: decorator>=3.4.0 in /shared-libs/python3.7/py-core/lib/python3.7/site-packages (from validators->streamlit) (5.1.1)\nRequirement already satisfied: idna<4,>=2.5; python_version >= \"3\" in /shared-libs/python3.7/py-core/lib/python3.7/site-packages (from requests->streamlit) (3.3)\nRequirement already satisfied: certifi>=2017.4.17 in /shared-libs/python3.7/py/lib/python3.7/site-packages (from requests->streamlit) (2021.10.8)\nRequirement already satisfied: charset-normalizer~=2.0.0; python_version >= \"3\" in /shared-libs/python3.7/py-core/lib/python3.7/site-packages (from requests->streamlit) (2.0.12)\nRequirement already satisfied: urllib3<1.27,>=1.21.1 in /shared-libs/python3.7/py/lib/python3.7/site-packages (from requests->streamlit) (1.26.9)\nRequirement already satisfied: pyparsing!=3.0.5,>=2.0.2 in /shared-libs/python3.7/py/lib/python3.7/site-packages (from packaging->streamlit) (3.0.8)\nCollecting backports.zoneinfo; python_version < \"3.9\"\n  Downloading backports.zoneinfo-0.2.1-cp37-cp37m-manylinux1_x86_64.whl (70 kB)\n\u001b[K     |████████████████████████████████| 70 kB 19.9 MB/s \n\u001b[?25hCollecting pytz-deprecation-shim\n  Downloading pytz_deprecation_shim-0.1.0.post0-py2.py3-none-any.whl (15 kB)\nCollecting gitdb<5,>=4.0.1\n  Downloading gitdb-4.0.9-py3-none-any.whl (63 kB)\n\u001b[K     |████████████████████████████████| 63 kB 4.1 MB/s \n\u001b[?25hRequirement already satisfied: zipp>=0.5 in /shared-libs/python3.7/py-core/lib/python3.7/site-packages (from importlib-metadata>=1.4->streamlit) (3.8.0)\nRequirement already satisfied: MarkupSafe>=0.23 in /shared-libs/python3.7/py-core/lib/python3.7/site-packages (from jinja2>=2.10.1->pydeck>=0.1.dev5->streamlit) (2.0.1)\nRequirement already satisfied: ipython>=4.0.0; python_version >= \"3.3\" in /shared-libs/python3.7/py-core/lib/python3.7/site-packages (from ipywidgets>=7.0.0->pydeck>=0.1.dev5->streamlit) (7.33.0)\nCollecting jupyterlab-widgets>=1.0.0; python_version >= \"3.6\"\n  Downloading jupyterlab_widgets-1.1.0-py3-none-any.whl (245 kB)\n\u001b[K     |████████████████████████████████| 245 kB 59.5 MB/s \n\u001b[?25hRequirement already satisfied: nbformat>=4.2.0 in /shared-libs/python3.7/py-core/lib/python3.7/site-packages (from ipywidgets>=7.0.0->pydeck>=0.1.dev5->streamlit) (5.1.3)\nCollecting widgetsnbextension~=3.6.0\n  Downloading widgetsnbextension-3.6.0-py2.py3-none-any.whl (1.6 MB)\n\u001b[K     |████████████████████████████████| 1.6 MB 32.5 MB/s \n\u001b[?25hRequirement already satisfied: ipython-genutils~=0.2.0 in /shared-libs/python3.7/py-core/lib/python3.7/site-packages (from ipywidgets>=7.0.0->pydeck>=0.1.dev5->streamlit) (0.2.0)\nRequirement already satisfied: jupyter-client in /shared-libs/python3.7/py-core/lib/python3.7/site-packages (from ipykernel>=5.1.2; python_version >= \"3.4\"->pydeck>=0.1.dev5->streamlit) (6.1.12)\nRequirement already satisfied: pyrsistent>=0.14.0 in /shared-libs/python3.7/py-core/lib/python3.7/site-packages (from jsonschema->altair>=3.2.0->streamlit) (0.18.1)\nRequirement already satisfied: setuptools in /root/venv/lib/python3.7/site-packages (from jsonschema->altair>=3.2.0->streamlit) (47.1.0)\nCollecting tzdata; python_version >= \"3.6\"\n  Downloading tzdata-2022.1-py2.py3-none-any.whl (339 kB)\n\u001b[K     |████████████████████████████████| 339 kB 66.4 MB/s \n\u001b[?25hCollecting smmap<6,>=3.0.1\n  Downloading smmap-5.0.0-py3-none-any.whl (24 kB)\nRequirement already satisfied: jedi>=0.16 in /shared-libs/python3.7/py-core/lib/python3.7/site-packages (from ipython>=4.0.0; python_version >= \"3.3\"->ipywidgets>=7.0.0->pydeck>=0.1.dev5->streamlit) (0.17.2)\nRequirement already satisfied: prompt-toolkit!=3.0.0,!=3.0.1,<3.1.0,>=2.0.0 in /shared-libs/python3.7/py-core/lib/python3.7/site-packages (from ipython>=4.0.0; python_version >= \"3.3\"->ipywidgets>=7.0.0->pydeck>=0.1.dev5->streamlit) (3.0.29)\nRequirement already satisfied: pexpect>4.3; sys_platform != \"win32\" in /shared-libs/python3.7/py-core/lib/python3.7/site-packages (from ipython>=4.0.0; python_version >= \"3.3\"->ipywidgets>=7.0.0->pydeck>=0.1.dev5->streamlit) (4.8.0)\nRequirement already satisfied: matplotlib-inline in /shared-libs/python3.7/py-core/lib/python3.7/site-packages (from ipython>=4.0.0; python_version >= \"3.3\"->ipywidgets>=7.0.0->pydeck>=0.1.dev5->streamlit) (0.1.3)\nRequirement already satisfied: pygments in /shared-libs/python3.7/py-core/lib/python3.7/site-packages (from ipython>=4.0.0; python_version >= \"3.3\"->ipywidgets>=7.0.0->pydeck>=0.1.dev5->streamlit) (2.12.0)\nRequirement already satisfied: backcall in /shared-libs/python3.7/py-core/lib/python3.7/site-packages (from ipython>=4.0.0; python_version >= \"3.3\"->ipywidgets>=7.0.0->pydeck>=0.1.dev5->streamlit) (0.2.0)\nRequirement already satisfied: pickleshare in /shared-libs/python3.7/py-core/lib/python3.7/site-packages (from ipython>=4.0.0; python_version >= \"3.3\"->ipywidgets>=7.0.0->pydeck>=0.1.dev5->streamlit) (0.7.5)\nRequirement already satisfied: jupyter-core in /shared-libs/python3.7/py-core/lib/python3.7/site-packages (from nbformat>=4.2.0->ipywidgets>=7.0.0->pydeck>=0.1.dev5->streamlit) (4.7.1)\nRequirement already satisfied: notebook>=4.4.1 in /shared-libs/python3.7/py-core/lib/python3.7/site-packages (from widgetsnbextension~=3.6.0->ipywidgets>=7.0.0->pydeck>=0.1.dev5->streamlit) (6.3.0)\nRequirement already satisfied: pyzmq>=13 in /shared-libs/python3.7/py-core/lib/python3.7/site-packages (from jupyter-client->ipykernel>=5.1.2; python_version >= \"3.4\"->pydeck>=0.1.dev5->streamlit) (22.3.0)\nRequirement already satisfied: parso<0.8.0,>=0.7.0 in /shared-libs/python3.7/py-core/lib/python3.7/site-packages (from jedi>=0.16->ipython>=4.0.0; python_version >= \"3.3\"->ipywidgets>=7.0.0->pydeck>=0.1.dev5->streamlit) (0.7.1)\nRequirement already satisfied: wcwidth in /shared-libs/python3.7/py-core/lib/python3.7/site-packages (from prompt-toolkit!=3.0.0,!=3.0.1,<3.1.0,>=2.0.0->ipython>=4.0.0; python_version >= \"3.3\"->ipywidgets>=7.0.0->pydeck>=0.1.dev5->streamlit) (0.2.5)\nRequirement already satisfied: ptyprocess>=0.5 in /shared-libs/python3.7/py-core/lib/python3.7/site-packages (from pexpect>4.3; sys_platform != \"win32\"->ipython>=4.0.0; python_version >= \"3.3\"->ipywidgets>=7.0.0->pydeck>=0.1.dev5->streamlit) (0.7.0)\nRequirement already satisfied: terminado>=0.8.3 in /shared-libs/python3.7/py-core/lib/python3.7/site-packages (from notebook>=4.4.1->widgetsnbextension~=3.6.0->ipywidgets>=7.0.0->pydeck>=0.1.dev5->streamlit) (0.13.3)\nRequirement already satisfied: prometheus-client in /shared-libs/python3.7/py-core/lib/python3.7/site-packages (from notebook>=4.4.1->widgetsnbextension~=3.6.0->ipywidgets>=7.0.0->pydeck>=0.1.dev5->streamlit) (0.14.1)\nRequirement already satisfied: argon2-cffi in /shared-libs/python3.7/py-core/lib/python3.7/site-packages (from notebook>=4.4.1->widgetsnbextension~=3.6.0->ipywidgets>=7.0.0->pydeck>=0.1.dev5->streamlit) (21.3.0)\nRequirement already satisfied: Send2Trash>=1.5.0 in /shared-libs/python3.7/py-core/lib/python3.7/site-packages (from notebook>=4.4.1->widgetsnbextension~=3.6.0->ipywidgets>=7.0.0->pydeck>=0.1.dev5->streamlit) (1.8.0)\nRequirement already satisfied: nbconvert==6.0.7 in /shared-libs/python3.7/py-core/lib/python3.7/site-packages (from notebook>=4.4.1->widgetsnbextension~=3.6.0->ipywidgets>=7.0.0->pydeck>=0.1.dev5->streamlit) (6.0.7)\nRequirement already satisfied: argon2-cffi-bindings in /shared-libs/python3.7/py-core/lib/python3.7/site-packages (from argon2-cffi->notebook>=4.4.1->widgetsnbextension~=3.6.0->ipywidgets>=7.0.0->pydeck>=0.1.dev5->streamlit) (21.2.0)\nRequirement already satisfied: bleach in /shared-libs/python3.7/py-core/lib/python3.7/site-packages (from nbconvert==6.0.7->notebook>=4.4.1->widgetsnbextension~=3.6.0->ipywidgets>=7.0.0->pydeck>=0.1.dev5->streamlit) (5.0.0)\nRequirement already satisfied: defusedxml in /shared-libs/python3.7/py-core/lib/python3.7/site-packages (from nbconvert==6.0.7->notebook>=4.4.1->widgetsnbextension~=3.6.0->ipywidgets>=7.0.0->pydeck>=0.1.dev5->streamlit) (0.7.1)\nRequirement already satisfied: nbclient<0.6.0,>=0.5.0 in /shared-libs/python3.7/py-core/lib/python3.7/site-packages (from nbconvert==6.0.7->notebook>=4.4.1->widgetsnbextension~=3.6.0->ipywidgets>=7.0.0->pydeck>=0.1.dev5->streamlit) (0.5.9)\nRequirement already satisfied: pandocfilters>=1.4.1 in /shared-libs/python3.7/py-core/lib/python3.7/site-packages (from nbconvert==6.0.7->notebook>=4.4.1->widgetsnbextension~=3.6.0->ipywidgets>=7.0.0->pydeck>=0.1.dev5->streamlit) (1.5.0)\nRequirement already satisfied: mistune<2,>=0.8.1 in /shared-libs/python3.7/py-core/lib/python3.7/site-packages (from nbconvert==6.0.7->notebook>=4.4.1->widgetsnbextension~=3.6.0->ipywidgets>=7.0.0->pydeck>=0.1.dev5->streamlit) (0.8.4)\nRequirement already satisfied: testpath in /shared-libs/python3.7/py-core/lib/python3.7/site-packages (from nbconvert==6.0.7->notebook>=4.4.1->widgetsnbextension~=3.6.0->ipywidgets>=7.0.0->pydeck>=0.1.dev5->streamlit) (0.6.0)\nRequirement already satisfied: jupyterlab-pygments in /shared-libs/python3.7/py-core/lib/python3.7/site-packages (from nbconvert==6.0.7->notebook>=4.4.1->widgetsnbextension~=3.6.0->ipywidgets>=7.0.0->pydeck>=0.1.dev5->streamlit) (0.2.2)\nRequirement already satisfied: cffi>=1.0.1 in /shared-libs/python3.7/py-core/lib/python3.7/site-packages (from argon2-cffi-bindings->argon2-cffi->notebook>=4.4.1->widgetsnbextension~=3.6.0->ipywidgets>=7.0.0->pydeck>=0.1.dev5->streamlit) (1.15.0)\nRequirement already satisfied: webencodings in /shared-libs/python3.7/py-core/lib/python3.7/site-packages (from bleach->nbconvert==6.0.7->notebook>=4.4.1->widgetsnbextension~=3.6.0->ipywidgets>=7.0.0->pydeck>=0.1.dev5->streamlit) (0.5.1)\nRequirement already satisfied: nest-asyncio in /shared-libs/python3.7/py-core/lib/python3.7/site-packages (from nbclient<0.6.0,>=0.5.0->nbconvert==6.0.7->notebook>=4.4.1->widgetsnbextension~=3.6.0->ipywidgets>=7.0.0->pydeck>=0.1.dev5->streamlit) (1.5.5)\nRequirement already satisfied: pycparser in /shared-libs/python3.7/py-core/lib/python3.7/site-packages (from cffi>=1.0.1->argon2-cffi-bindings->argon2-cffi->notebook>=4.4.1->widgetsnbextension~=3.6.0->ipywidgets>=7.0.0->pydeck>=0.1.dev5->streamlit) (2.21)\nBuilding wheels for collected packages: validators, blinker\n  Building wheel for validators (setup.py) ... \u001b[?25ldone\n\u001b[?25h  Created wheel for validators: filename=validators-0.19.0-py3-none-any.whl size=19539 sha256=91af6373d6ebae3878cae1fef31f466252a2555d719924470d0148ef35f90144\n  Stored in directory: /root/.cache/pip/wheels/fe/5d/69/ff53a908b9f14fb7730a58fdede0fac4cdc99ef3624ec76d05\n  Building wheel for blinker (setup.py) ... \u001b[?25ldone\n\u001b[?25h  Created wheel for blinker: filename=blinker-1.4-py3-none-any.whl size=13451 sha256=5e6a0467052c221c6053f9bb69565383d00e4709302990d53697ebb1dd01f102\n  Stored in directory: /root/.cache/pip/wheels/22/f5/18/df711b66eb25b21325c132757d4314db9ac5e8dabeaf196eab\nSuccessfully built validators blinker\n\u001b[31mERROR: spacy 3.3.0 has requirement typing-extensions<4.0.0.0,>=3.7.4; python_version < \"3.8\", but you'll have typing-extensions 4.2.0 which is incompatible.\u001b[0m\nInstalling collected packages: jupyterlab-widgets, widgetsnbextension, ipywidgets, pydeck, toml, validators, blinker, click, backports.zoneinfo, tzdata, pytz-deprecation-shim, tzlocal, smmap, gitdb, gitpython, semver, watchdog, pympler, streamlit\n  Attempting uninstall: click\n    Found existing installation: click 8.1.3\n    Not uninstalling click at /shared-libs/python3.7/py/lib/python3.7/site-packages, outside environment /root/venv\n    Can't uninstall 'click'. No files were found to uninstall.\nSuccessfully installed backports.zoneinfo-0.2.1 blinker-1.4 click-8.0.4 gitdb-4.0.9 gitpython-3.1.27 ipywidgets-7.7.0 jupyterlab-widgets-1.1.0 pydeck-0.7.1 pympler-1.0.1 pytz-deprecation-shim-0.1.0.post0 semver-2.13.0 smmap-5.0.0 streamlit-1.9.0 toml-0.10.2 tzdata-2022.1 tzlocal-4.2 validators-0.19.0 watchdog-2.1.8 widgetsnbextension-3.6.0\n\u001b[33mWARNING: You are using pip version 20.1.1; however, version 22.1 is available.\nYou should consider upgrading via the '/root/venv/bin/python -m pip install --upgrade pip' command.\u001b[0m\n",
     "output_type": "stream"
    }
   ],
   "execution_count": null
  },
  {
   "cell_type": "code",
   "source": "!pip install gdown",
   "metadata": {
    "cell_id": "fc08d74ed90e4af4a947ca809c1ec271",
    "tags": [],
    "deepnote_to_be_reexecuted": false,
    "source_hash": "3d3a8ed3",
    "execution_start": 1652715310459,
    "execution_millis": 9186,
    "deepnote_cell_type": "code",
    "deepnote_cell_height": 721.796875
   },
   "outputs": [
    {
     "name": "stdout",
     "text": "Collecting gdown\n  Downloading gdown-4.4.0.tar.gz (14 kB)\n  Installing build dependencies ... \u001b[?25ldone\n\u001b[?25h  Getting requirements to build wheel ... \u001b[?25ldone\n\u001b[?25h    Preparing wheel metadata ... \u001b[?25ldone\n\u001b[?25hRequirement already satisfied: tqdm in /shared-libs/python3.7/py/lib/python3.7/site-packages (from gdown) (4.64.0)\nCollecting beautifulsoup4\n  Downloading beautifulsoup4-4.11.1-py3-none-any.whl (128 kB)\n\u001b[K     |████████████████████████████████| 128 kB 25.3 MB/s \n\u001b[?25hRequirement already satisfied: requests[socks] in /shared-libs/python3.7/py/lib/python3.7/site-packages (from gdown) (2.27.1)\nRequirement already satisfied: six in /shared-libs/python3.7/py-core/lib/python3.7/site-packages (from gdown) (1.16.0)\nRequirement already satisfied: filelock in /shared-libs/python3.7/py/lib/python3.7/site-packages (from gdown) (3.6.0)\nCollecting soupsieve>1.2\n  Downloading soupsieve-2.3.2.post1-py3-none-any.whl (37 kB)\nRequirement already satisfied: urllib3<1.27,>=1.21.1 in /shared-libs/python3.7/py/lib/python3.7/site-packages (from requests[socks]->gdown) (1.26.9)\nRequirement already satisfied: certifi>=2017.4.17 in /shared-libs/python3.7/py/lib/python3.7/site-packages (from requests[socks]->gdown) (2021.10.8)\nRequirement already satisfied: charset-normalizer~=2.0.0; python_version >= \"3\" in /shared-libs/python3.7/py-core/lib/python3.7/site-packages (from requests[socks]->gdown) (2.0.12)\nRequirement already satisfied: idna<4,>=2.5; python_version >= \"3\" in /shared-libs/python3.7/py-core/lib/python3.7/site-packages (from requests[socks]->gdown) (3.3)\nCollecting PySocks!=1.5.7,>=1.5.6; extra == \"socks\"\n  Downloading PySocks-1.7.1-py3-none-any.whl (16 kB)\nBuilding wheels for collected packages: gdown\n  Building wheel for gdown (PEP 517) ... \u001b[?25ldone\n\u001b[?25h  Created wheel for gdown: filename=gdown-4.4.0-py3-none-any.whl size=14775 sha256=3c198cb0f1d07fad67c45bdd7517a696d57814c61466c6428525110b264f3e24\n  Stored in directory: /root/.cache/pip/wheels/fb/c3/0e/c4d8ff8bfcb0461afff199471449f642179b74968c15b7a69c\nSuccessfully built gdown\nInstalling collected packages: soupsieve, beautifulsoup4, gdown, PySocks\nSuccessfully installed PySocks-1.7.1 beautifulsoup4-4.11.1 gdown-4.4.0 soupsieve-2.3.2.post1\n\u001b[33mWARNING: You are using pip version 20.1.1; however, version 22.1 is available.\nYou should consider upgrading via the '/root/venv/bin/python -m pip install --upgrade pip' command.\u001b[0m\n",
     "output_type": "stream"
    }
   ],
   "execution_count": null
  },
  {
   "cell_type": "code",
   "source": "import fastai\nfastai.__version__",
   "metadata": {
    "cell_id": "3d2aa532bfa24df79d6eedf627a72807",
    "tags": [],
    "deepnote_to_be_reexecuted": false,
    "source_hash": "823977d4",
    "execution_start": 1652715319389,
    "execution_millis": 257,
    "deepnote_cell_type": "code",
    "deepnote_cell_height": 136.1875,
    "deepnote_output_heights": [
     21.1875
    ]
   },
   "outputs": [
    {
     "output_type": "execute_result",
     "execution_count": 4,
     "data": {
      "text/plain": "'2.6.3'"
     },
     "metadata": {}
    }
   ],
   "execution_count": null
  },
  {
   "cell_type": "code",
   "source": "import fastcore\nfastcore.__version__",
   "metadata": {
    "cell_id": "7c7274f0691e4dd0b4e5b81092d5fe8e",
    "tags": [],
    "deepnote_to_be_reexecuted": false,
    "source_hash": "2bb0c3f8",
    "execution_start": 1652715319389,
    "execution_millis": 257,
    "deepnote_cell_type": "code",
    "deepnote_cell_height": 136.1875,
    "deepnote_output_heights": [
     21.1875
    ]
   },
   "outputs": [
    {
     "output_type": "execute_result",
     "execution_count": 5,
     "data": {
      "text/plain": "'1.4.3'"
     },
     "metadata": {}
    }
   ],
   "execution_count": null
  },
  {
   "cell_type": "code",
   "source": "import streamlit\nstreamlit.__version__",
   "metadata": {
    "cell_id": "6c7175951b564883aa043a5ac01a7152",
    "tags": [],
    "deepnote_to_be_reexecuted": false,
    "source_hash": "96c784b8",
    "execution_start": 1652715319390,
    "execution_millis": 2102,
    "deepnote_cell_type": "code",
    "deepnote_cell_height": 182.1875,
    "deepnote_output_heights": [
     null,
     21.1875
    ]
   },
   "outputs": [
    {
     "name": "stderr",
     "text": "2022-05-16 15:35:20.428 INFO    matplotlib.font_manager: generated new fontManager\n",
     "output_type": "stream"
    },
    {
     "output_type": "execute_result",
     "execution_count": 6,
     "data": {
      "text/plain": "'1.9.0'"
     },
     "metadata": {}
    }
   ],
   "execution_count": null
  },
  {
   "cell_type": "code",
   "source": "import gdown\ngdown.__version__",
   "metadata": {
    "cell_id": "1c6a4c7041c342a888e565047378a480",
    "tags": [],
    "deepnote_to_be_reexecuted": false,
    "source_hash": "716c3447",
    "execution_start": 1652715323609,
    "execution_millis": 253,
    "deepnote_cell_type": "code",
    "deepnote_cell_height": 136.1875,
    "deepnote_output_heights": [
     21.1875
    ]
   },
   "outputs": [
    {
     "output_type": "execute_result",
     "execution_count": 7,
     "data": {
      "text/plain": "'4.4.0'"
     },
     "metadata": {}
    }
   ],
   "execution_count": null
  },
  {
   "cell_type": "code",
   "source": "",
   "metadata": {
    "cell_id": "eba3c99076244cbc8cef1f5dff16cf5b",
    "tags": [],
    "owner_user_id": "bf4d6fee-9841-4f11-9aa1-f63b5ddb06ea",
    "deepnote_cell_type": "code",
    "deepnote_cell_height": 66
   },
   "outputs": [],
   "execution_count": null
  },
  {
   "cell_type": "markdown",
   "source": "<a style='text-decoration:none;line-height:16px;display:flex;color:#5B5B62;padding:10px;justify-content:end;' href='https://deepnote.com?utm_source=created-in-deepnote-cell&projectId=b3da3eb2-31b6-4802-afdb-c2d925b13a87' target=\"_blank\">\n<img alt='Created in deepnote.com' style='display:inline;max-height:16px;margin:0px;margin-right:7.5px;' src='data:image/svg+xml;base64,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' > </img>\nCreated in <span style='font-weight:600;margin-left:4px;'>Deepnote</span></a>",
   "metadata": {
    "tags": [],
    "created_in_deepnote_cell": true,
    "deepnote_cell_type": "markdown"
   }
  }
 ],
 "nbformat": 4,
 "nbformat_minor": 2,
 "metadata": {
  "orig_nbformat": 2,
  "deepnote": {},
  "deepnote_notebook_id": "d0edb021-134f-428f-a4b5-a7ad2c005758",
  "deepnote_execution_queue": []
 }
}